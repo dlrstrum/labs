{
  "nbformat": 4,
  "nbformat_minor": 0,
  "metadata": {
    "colab": {
      "provenance": [],
      "authorship_tag": "ABX9TyMLs1z/LzV5w8YrD9JppCNe",
      "include_colab_link": true
    },
    "kernelspec": {
      "name": "python3",
      "display_name": "Python 3"
    },
    "language_info": {
      "name": "python"
    }
  },
  "cells": [
    {
      "cell_type": "markdown",
      "metadata": {
        "id": "view-in-github",
        "colab_type": "text"
      },
      "source": [
        "<a href=\"https://colab.research.google.com/github/dlrstrum/labs/blob/main/lab6.ipynb\" target=\"_parent\"><img src=\"https://colab.research.google.com/assets/colab-badge.svg\" alt=\"Open In Colab\"/></a>"
      ]
    },
    {
      "cell_type": "code",
      "execution_count": null,
      "metadata": {
        "colab": {
          "base_uri": "https://localhost:8080/"
        },
        "id": "-v5aaJv6ynkJ",
        "outputId": "bcc25c51-3d11-48ca-d2ab-38d310ba0ebb"
      },
      "outputs": [
        {
          "output_type": "stream",
          "name": "stdout",
          "text": [
            "Product of the list: 120\n"
          ]
        }
      ],
      "source": [
        "# 1. builtin function to multiply all the numbers in a list\n",
        "import math\n",
        "\n",
        "def multiply_list(numbers):\n",
        "    return math.prod(numbers)\n",
        "\n",
        "nums = [2, 3, 4, 5]\n",
        "result = multiply_list(nums)\n",
        "print(result)"
      ]
    },
    {
      "cell_type": "code",
      "source": [
        "# 2. builtin function that accepts a string and calculate the number of upper case letters and lower case letters\n",
        "def count_case(s):\n",
        "    upper_count = sum(1 for char in s if char.isupper())\n",
        "    lower_count = sum(1 for char in s if char.islower())\n",
        "\n",
        "    return {\"Uppercase\": upper_count, \"Lowercase\": lower_count}\n",
        "string3 = \"StrInG\"\n",
        "result = count_case(string)\n",
        "print(result)"
      ],
      "metadata": {
        "colab": {
          "base_uri": "https://localhost:8080/"
        },
        "id": "X9OqO2gTNkpG",
        "outputId": "745834f9-31ad-402d-8b03-0237df68e968"
      },
      "execution_count": null,
      "outputs": [
        {
          "output_type": "stream",
          "name": "stdout",
          "text": [
            "{'Uppercase': 0, 'Lowercase': 5}\n"
          ]
        }
      ]
    },
    {
      "cell_type": "code",
      "source": [
        "# 3. builtin function that checks whether a passed string is palindrome or not\n",
        "\n",
        "def is_palindrome(s):\n",
        "    return s == s[::-1]\n",
        "\n",
        "string = str(input())\n",
        "print(is_palindrome(string))"
      ],
      "metadata": {
        "colab": {
          "base_uri": "https://localhost:8080/"
        },
        "id": "3INxfay5O6ID",
        "outputId": "dfb74bfb-c15b-4ee9-f9f2-71ece3a1b2b6"
      },
      "execution_count": null,
      "outputs": [
        {
          "output_type": "stream",
          "name": "stdout",
          "text": [
            "madam\n",
            "True\n"
          ]
        }
      ]
    },
    {
      "cell_type": "code",
      "source": [
        "# 4. invoke square root function after specific millisecond\n",
        "\n",
        "import time\n",
        "import math\n",
        "\n",
        "def delayed_sqrt(number, delay_ms):\n",
        "    time.sleep(delay_ms / 1000)\n",
        "    result = math.sqrt(number)\n",
        "    print(\"Square root of \" + str(number) + \" after \" + str(delay_ms) + \" milliseconds is \" + str(result))\n",
        "\n",
        "num = 25100\n",
        "delay = 2123\n",
        "delayed_sqrt(num, delay)"
      ],
      "metadata": {
        "colab": {
          "base_uri": "https://localhost:8080/"
        },
        "id": "pAZcFIjWPvyR",
        "outputId": "5d5ff962-052e-4d05-d4da-91fe8e46b9b3"
      },
      "execution_count": null,
      "outputs": [
        {
          "output_type": "stream",
          "name": "stdout",
          "text": [
            "Square root of 25100 after 2123 milliseconds is 158.42979517754858\n",
            "Square root of 25100 after 2123 milliseconds is 158.42979517754858\n"
          ]
        }
      ]
    },
    {
      "cell_type": "code",
      "source": [
        "# 5. builtin function that returns True if all elements of the tuple are true\n",
        "\n",
        "def all_true(t):\n",
        "    return all(t)\n",
        "\n",
        "tuple1 = (True, True, True)\n",
        "tuple2 = (True, False, True)\n",
        "\n",
        "print(all_true(tuple1))\n",
        "print(all_true(tuple2))"
      ],
      "metadata": {
        "colab": {
          "base_uri": "https://localhost:8080/"
        },
        "id": "Ns13nep-QYFf",
        "outputId": "6a33118b-ec0b-478a-b472-59f0bc435e9b"
      },
      "execution_count": null,
      "outputs": [
        {
          "output_type": "stream",
          "name": "stdout",
          "text": [
            "True\n",
            "False\n"
          ]
        }
      ]
    },
    {
      "cell_type": "code",
      "source": [
        "#Python Directories and Files exercises"
      ],
      "metadata": {
        "id": "PxOHlFjHML9M"
      },
      "execution_count": null,
      "outputs": []
    },
    {
      "cell_type": "code",
      "source": [
        "import os\n",
        "import string\n",
        "import shutil\n",
        "import math\n",
        "import time\n",
        "\n",
        "# 1. List directories, files, and all contents in a path\n",
        "def list_path_contents(path):\n",
        "    \"\"\"Lists directories, files, and all contents in a path.\"\"\"\n",
        "    if not os.path.exists(path):\n",
        "        print(f\"Path '{path}' does not exist.\")\n",
        "        return\n",
        "\n",
        "    print(f\"Directories in '{path}':\")\n",
        "    for item in os.listdir(path):\n",
        "        item_path = os.path.join(path, item)\n",
        "        if os.path.isdir(item_path):\n",
        "            print(item)\n",
        "\n",
        "    print(f\"\\nFiles in '{path}':\")\n",
        "    for item in os.listdir(path):\n",
        "        item_path = os.path.join(path, item)\n",
        "        if os.path.isfile(item_path):\n",
        "            print(item)\n",
        "\n",
        "    print(f\"\\nAll contents in '{path}':\")\n",
        "    for item in os.listdir(path):\n",
        "        print(item)\n",
        "\n",
        "# Example:\n",
        "list_path_contents(\".\")"
      ],
      "metadata": {
        "colab": {
          "base_uri": "https://localhost:8080/"
        },
        "id": "cU4-mlXIMzad",
        "outputId": "68a674b8-0e18-4244-b1c0-c560bc907dd8"
      },
      "execution_count": null,
      "outputs": [
        {
          "output_type": "stream",
          "name": "stdout",
          "text": [
            "Directories in '.':\n",
            "\n",
            "Files in '.':\n",
            "A.txt\n",
            "U.txt\n",
            "D:\\Projects\test.txt\n",
            "Z.txt\n",
            "J.txt\n",
            "G.txt\n",
            "I.txt\n",
            "L.txt\n",
            "W.txt\n",
            "P.txt\n",
            "K.txt\n",
            "S.txt\n",
            "M.txt\n",
            "O.txt\n",
            "Y.txt\n",
            "X.txt\n",
            "F.txt\n",
            "R.txt\n",
            "C.txt\n",
            "Q.txt\n",
            "T.txt\n",
            "D.txt\n",
            "N.txt\n",
            "E.txt\n",
            "V.txt\n",
            "H.txt\n",
            "\n",
            "All contents in '.':\n",
            "A.txt\n",
            "U.txt\n",
            "D:\\Projects\test.txt\n",
            "Z.txt\n",
            "J.txt\n",
            "G.txt\n",
            "I.txt\n",
            "L.txt\n",
            "W.txt\n",
            "P.txt\n",
            "K.txt\n",
            "S.txt\n",
            "M.txt\n",
            "O.txt\n",
            "Y.txt\n",
            "X.txt\n",
            "F.txt\n",
            "R.txt\n",
            "C.txt\n",
            "Q.txt\n",
            "T.txt\n",
            "D.txt\n",
            "N.txt\n",
            "E.txt\n",
            "V.txt\n",
            "H.txt\n"
          ]
        }
      ]
    },
    {
      "cell_type": "code",
      "source": [
        "# 2. Check access permissions for a path\n",
        "def check_path_access(path):\n",
        "    \"\"\"Checks access permissions for a path.\"\"\"\n",
        "    print(f\"Checking access for '{path}':\")\n",
        "    print(f\"Exists: {os.path.exists(path)}\")\n",
        "    print(f\"Readable: {os.access(path, os.R_OK)}\")\n",
        "    print(f\"Writable: {os.access(path, os.W_OK)}\")\n",
        "    print(f\"Executable: {os.access(path, os.X_OK)}\")\n",
        "\n",
        "# Example:\n",
        "file_path = 'D:\\Projects\\test.txt'\n",
        "open(file_path, 'x')\n",
        "check_path_access(\"D:\\Projects\\test.txt\") # test.txt must exist in your directory."
      ],
      "metadata": {
        "colab": {
          "base_uri": "https://localhost:8080/"
        },
        "id": "jKOW3jMVM2t9",
        "outputId": "4c4521cf-37c2-4fcf-efe6-3ce12ba3ab7a"
      },
      "execution_count": null,
      "outputs": [
        {
          "output_type": "stream",
          "name": "stdout",
          "text": [
            "Checking access for 'D:\\Projects\test.txt':\n",
            "Exists: True\n",
            "Readable: True\n",
            "Writable: True\n",
            "Executable: False\n"
          ]
        }
      ]
    },
    {
      "cell_type": "code",
      "source": [
        "0# 3. Check if a path exists and get filename and directory\n",
        "def get_path_info(path):\n",
        "    \"\"\"Checks if a path exists and returns filename and directory.\"\"\"\n",
        "    if os.path.exists(path):\n",
        "        print(f\"Path '{path}' exists.\")\n",
        "        print(f\"Filename: {os.path.basename(path)}\")\n",
        "        print(f\"Directory: {os.path.dirname(path)}\")\n",
        "    else:\n",
        "        print(f\"Path '{path}' does not exist.\")\n",
        "\n",
        "# Example:\n",
        "file_path = 'D:\\Projects\\test.txt'\n",
        "get_path_info(file_path)"
      ],
      "metadata": {
        "colab": {
          "base_uri": "https://localhost:8080/"
        },
        "id": "Eo2Q3tDEOLSc",
        "outputId": "e68fbeeb-4881-4567-c2f6-b8245eefb8b0"
      },
      "execution_count": null,
      "outputs": [
        {
          "output_type": "stream",
          "name": "stdout",
          "text": [
            "Path 'D:\\Projects\test.txt' exists.\n",
            "Filename: D:\\Projects\test.txt\n",
            "Directory: \n"
          ]
        }
      ]
    },
    {
      "cell_type": "code",
      "source": [
        "# 4. Count lines in a text file\n",
        "def count_lines(filepath):\n",
        "    \"\"\"Counts the number of lines in a text file.\"\"\"\n",
        "    try:\n",
        "        with open(filepath, 'r') as f:\n",
        "            return sum(1 for line in f)\n",
        "    except FileNotFoundError:\n",
        "        return f\"File '{filepath}' not found.\"\n",
        "\n",
        "# Example:\n",
        "with open(file_path, 'w') as f:\n",
        "       f.write('This is the content of the first line.\\nThis is the content of the secong line.\\n')\n",
        "print(f\"Lines in file_path: {count_lines(file_path)}\")"
      ],
      "metadata": {
        "colab": {
          "base_uri": "https://localhost:8080/"
        },
        "id": "SkQfHVhOOPKM",
        "outputId": "57d42fcf-bc1f-41f3-d9d8-690c2026300b"
      },
      "execution_count": null,
      "outputs": [
        {
          "output_type": "stream",
          "name": "stdout",
          "text": [
            "Lines in file_path: 2\n"
          ]
        }
      ]
    },
    {
      "cell_type": "code",
      "source": [
        "# 5. Write a list to a file\n",
        "def write_list_to_file(filepath, data_list):\n",
        "    \"\"\"Writes a list to a file.\"\"\"\n",
        "    try:\n",
        "        with open(filepath, 'w') as f:\n",
        "            for item in data_list:\n",
        "                f.write(str(item) + '\\n')\n",
        "        print(f\"List written to '{filepath}' successfully.\")\n",
        "    except Exception as e:\n",
        "        print(f\"Error writing to file: {e}\")\n",
        "\n",
        "# Example:\n",
        "my_list = [\"apple\", \"banana\", \"cherry\"]\n",
        "write_list_to_file(file_path, my_list)"
      ],
      "metadata": {
        "colab": {
          "base_uri": "https://localhost:8080/"
        },
        "id": "Ocuz__KtOQnE",
        "outputId": "50b8854f-68d9-432f-a15b-53a3e03fd5dd"
      },
      "execution_count": null,
      "outputs": [
        {
          "output_type": "stream",
          "name": "stdout",
          "text": [
            "List written to 'D:\\Projects\test.txt' successfully.\n"
          ]
        }
      ]
    },
    {
      "cell_type": "code",
      "source": [
        "# 6. Create 26 text files named A.txt to Z.txt\n",
        "def create_alphabetical_files(path=\".\"):\n",
        "    \"\"\"Creates 26 text files named A.txt to Z.txt.\"\"\"\n",
        "    for letter in string.ascii_uppercase:\n",
        "        filepath = os.path.join(path, f\"{letter}.txt\")\n",
        "        try:\n",
        "            with open(filepath, 'w') as f:\n",
        "                f.write(f\"This is file {letter}.txt\")\n",
        "        except Exception as e:\n",
        "            print(f\"Error creating file {letter}.txt: {e}\")\n",
        "\n",
        "# Example:\n",
        "create_alphabetical_files()"
      ],
      "metadata": {
        "id": "oXgEiu1jOSIX"
      },
      "execution_count": null,
      "outputs": []
    },
    {
      "cell_type": "code",
      "source": [
        "# 7. Copy the contents of one file to another\n",
        "def copy_file(source_path, destination_path):\n",
        "    \"\"\"Copies the contents of one file to another.\"\"\"\n",
        "    try:\n",
        "        shutil.copyfile(source_path, destination_path)\n",
        "        print(f\"File '{source_path}' copied to '{destination_path}' successfully.\")\n",
        "    except FileNotFoundError:\n",
        "        print(\"Source file not found.\")\n",
        "    except Exception as e:\n",
        "        print(f\"Error copying file: {e}\")\n",
        "\n",
        "# Example:\n",
        "copy_file(file_path, \"A.txt\")\n",
        "f = open(\"A.txt\", \"r\")\n",
        "print(f.read())"
      ],
      "metadata": {
        "colab": {
          "base_uri": "https://localhost:8080/"
        },
        "id": "gEj7Yr1NOTV6",
        "outputId": "f4898161-0c92-4bbb-fff2-fe09b1861c68"
      },
      "execution_count": null,
      "outputs": [
        {
          "output_type": "stream",
          "name": "stdout",
          "text": [
            "File 'D:\\Projects\test.txt' copied to 'A.txt' successfully.\n",
            "apple\n",
            "banana\n",
            "cherry\n",
            "\n"
          ]
        }
      ]
    },
    {
      "cell_type": "code",
      "source": [
        "# 8. Delete a file after checking existence and access\n",
        "def delete_file(filepath):\n",
        "    \"\"\"Deletes a file after checking existence and access.\"\"\"\n",
        "    if not os.path.exists(filepath):\n",
        "        print(f\"File '{filepath}' does not exist.\")\n",
        "        return\n",
        "\n",
        "    if not os.access(filepath, os.W_OK):\n",
        "        print(f\"Insufficient permissions to delete '{filepath}'.\")\n",
        "        return\n",
        "\n",
        "    try:\n",
        "        os.remove(filepath)\n",
        "        print(f\"File '{filepath}' deleted successfully.\")\n",
        "    except Exception as e:\n",
        "        print(f\"Error deleting file: {e}\")\n",
        "\n",
        "# Example:\n",
        "delete_file(\"B.txt\")"
      ],
      "metadata": {
        "colab": {
          "base_uri": "https://localhost:8080/"
        },
        "id": "H1zdtCF2OVFA",
        "outputId": "f940df87-aa0b-41ec-8a27-c24b78d54f58"
      },
      "execution_count": null,
      "outputs": [
        {
          "output_type": "stream",
          "name": "stdout",
          "text": [
            "File 'B.txt' deleted successfully.\n"
          ]
        }
      ]
    }
  ]
}