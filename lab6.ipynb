{
  "nbformat": 4,
  "nbformat_minor": 0,
  "metadata": {
    "colab": {
      "provenance": [],
      "authorship_tag": "ABX9TyNxqW1+yYzyTsd2jtFdUYUy",
      "include_colab_link": true
    },
    "kernelspec": {
      "name": "python3",
      "display_name": "Python 3"
    },
    "language_info": {
      "name": "python"
    }
  },
  "cells": [
    {
      "cell_type": "markdown",
      "metadata": {
        "id": "view-in-github",
        "colab_type": "text"
      },
      "source": [
        "<a href=\"https://colab.research.google.com/github/dlrstrum/labs/blob/main/lab6.ipynb\" target=\"_parent\"><img src=\"https://colab.research.google.com/assets/colab-badge.svg\" alt=\"Open In Colab\"/></a>"
      ]
    },
    {
      "cell_type": "code",
      "execution_count": 1,
      "metadata": {
        "colab": {
          "base_uri": "https://localhost:8080/"
        },
        "id": "-v5aaJv6ynkJ",
        "outputId": "bcc25c51-3d11-48ca-d2ab-38d310ba0ebb"
      },
      "outputs": [
        {
          "output_type": "stream",
          "name": "stdout",
          "text": [
            "Product of the list: 120\n"
          ]
        }
      ],
      "source": [
        "# 1. builtin function to multiply all the numbers in a list\n",
        "import math\n",
        "\n",
        "def multiply_list(numbers):\n",
        "    return math.prod(numbers)\n",
        "\n",
        "nums = [2, 3, 4, 5]\n",
        "result = multiply_list(nums)\n",
        "print(result)"
      ]
    },
    {
      "cell_type": "code",
      "source": [
        "# 2. builtin function that accepts a string and calculate the number of upper case letters and lower case letters\n",
        "def count_case(s):\n",
        "    upper_count = sum(1 for char in s if char.isupper())\n",
        "    lower_count = sum(1 for char in s if char.islower())\n",
        "\n",
        "    return {\"Uppercase\": upper_count, \"Lowercase\": lower_count}\n",
        "\n",
        "string = str(input())\n",
        "result = count_case(string)\n",
        "print(result)"
      ],
      "metadata": {
        "colab": {
          "base_uri": "https://localhost:8080/"
        },
        "id": "X9OqO2gTNkpG",
        "outputId": "c078d215-d6d8-44d6-cc57-e51313799dcb"
      },
      "execution_count": 7,
      "outputs": [
        {
          "output_type": "stream",
          "name": "stdout",
          "text": [
            "gh\n",
            "{'Uppercase': 0, 'Lowercase': 2}\n"
          ]
        }
      ]
    },
    {
      "cell_type": "code",
      "source": [
        "# 3. builtin function that checks whether a passed string is palindrome or not\n",
        "\n",
        "def is_palindrome(s):\n",
        "    return s == s[::-1]\n",
        "\n",
        "string = str(input())\n",
        "print(is_palindrome(string))"
      ],
      "metadata": {
        "colab": {
          "base_uri": "https://localhost:8080/"
        },
        "id": "3INxfay5O6ID",
        "outputId": "dfb74bfb-c15b-4ee9-f9f2-71ece3a1b2b6"
      },
      "execution_count": 12,
      "outputs": [
        {
          "output_type": "stream",
          "name": "stdout",
          "text": [
            "madam\n",
            "True\n"
          ]
        }
      ]
    },
    {
      "cell_type": "code",
      "source": [
        "# 4. invoke square root function after specific millisecond\n",
        "\n",
        "import time\n",
        "import math\n",
        "\n",
        "def delayed_sqrt(number, delay_ms):\n",
        "    time.sleep(delay_ms / 1000)\n",
        "    result = math.sqrt(number)\n",
        "    #print(f\"Square root of {number} after {delay_ms} milliseconds is {result}\")\n",
        "    print(\"Square root of \" + str(number) + \" after \" + str(delay_ms) + \" milliseconds is \" + str(result))\n",
        "\n",
        "num = 25100\n",
        "delay = 2123\n",
        "delayed_sqrt(num, delay)"
      ],
      "metadata": {
        "colab": {
          "base_uri": "https://localhost:8080/"
        },
        "id": "pAZcFIjWPvyR",
        "outputId": "5d5ff962-052e-4d05-d4da-91fe8e46b9b3"
      },
      "execution_count": 14,
      "outputs": [
        {
          "output_type": "stream",
          "name": "stdout",
          "text": [
            "Square root of 25100 after 2123 milliseconds is 158.42979517754858\n",
            "Square root of 25100 after 2123 milliseconds is 158.42979517754858\n"
          ]
        }
      ]
    },
    {
      "cell_type": "code",
      "source": [
        "# 5. builtin function that returns True if all elements of the tuple are true\n",
        "\n",
        "def all_true(t):\n",
        "    return all(t)\n",
        "\n",
        "tuple1 = (True, True, True)\n",
        "tuple2 = (True, False, True)\n",
        "\n",
        "print(all_true(tuple1))\n",
        "print(all_true(tuple2))"
      ],
      "metadata": {
        "colab": {
          "base_uri": "https://localhost:8080/"
        },
        "id": "Ns13nep-QYFf",
        "outputId": "6a33118b-ec0b-478a-b472-59f0bc435e9b"
      },
      "execution_count": 15,
      "outputs": [
        {
          "output_type": "stream",
          "name": "stdout",
          "text": [
            "True\n",
            "False\n"
          ]
        }
      ]
    }
  ]
}